{
 "cells": [
  {
   "cell_type": "markdown",
   "metadata": {},
   "source": [
    "# valores fixos"
   ]
  },
  {
   "cell_type": "code",
   "execution_count": 1,
   "metadata": {},
   "outputs": [],
   "source": [
    "lista = {'moeda': 0, 'nota/pix': 0, 'cartao': 0}\n",
    "cor = ['\\033[31m','\\033[32m', '\\033[33m', '\\033[36m', '\\033[m']\n",
    "total = 0\n",
    "cor_n = 0\n",
    "\n"
   ]
  },
  {
   "cell_type": "markdown",
   "metadata": {},
   "source": [
    "### Insersão de valores"
   ]
  },
  {
   "cell_type": "code",
   "execution_count": 2,
   "metadata": {},
   "outputs": [],
   "source": [
    "for c, n in enumerate(lista.keys()):\n",
    "    \n",
    "    while True:\n",
    "        valor = float(input(f'digite o valor em {n}: '))\n",
    "        if valor != 0:\n",
    "            lista[n] += valor\n",
    "        else:\n",
    "            total += lista[n]\n",
    "            \n",
    "            break"
   ]
  },
  {
   "cell_type": "markdown",
   "metadata": {},
   "source": [
    "# Resultado"
   ]
  },
  {
   "cell_type": "code",
   "execution_count": 3,
   "metadata": {},
   "outputs": [
    {
     "name": "stdout",
     "output_type": "stream",
     "text": [
      "\n",
      "\u001b[31mO valor em moeda é de 0 reais.\u001b[m\n",
      "\u001b[32mO valor em nota/pix é de 0 reais.\u001b[m\n",
      "\u001b[33mO valor em cartao é de 0 reais.\u001b[m\n",
      "\u001b[36mO valor em total é de 0 reais.\u001b[m\n"
     ]
    }
   ],
   "source": [
    "\n",
    "lista['total'] = total\n",
    "print()\n",
    "for v, k in lista.items():\n",
    "    print(f'{cor[cor_n]}O valor em {v} é de {k} reais.\\033[m')\n",
    "    cor_n += 1\n",
    "    "
   ]
  }
 ],
 "metadata": {
  "kernelspec": {
   "display_name": "Python 3",
   "language": "python",
   "name": "python3"
  },
  "language_info": {
   "codemirror_mode": {
    "name": "ipython",
    "version": 3
   },
   "file_extension": ".py",
   "mimetype": "text/x-python",
   "name": "python",
   "nbconvert_exporter": "python",
   "pygments_lexer": "ipython3",
   "version": "3.12.3"
  }
 },
 "nbformat": 4,
 "nbformat_minor": 2
}
