{
 "cells": [
  {
   "cell_type": "code",
   "execution_count": 2,
   "metadata": {},
   "outputs": [],
   "source": [
    "import yfinance\n",
    "from time import sleep\n",
    "import pyautogui\n",
    "import pyperclip\n",
    "import webbrowser\n"
   ]
  },
  {
   "cell_type": "code",
   "execution_count": 3,
   "metadata": {},
   "outputs": [
    {
     "data": {
      "text/html": [
       "<div>\n",
       "<style scoped>\n",
       "    .dataframe tbody tr th:only-of-type {\n",
       "        vertical-align: middle;\n",
       "    }\n",
       "\n",
       "    .dataframe tbody tr th {\n",
       "        vertical-align: top;\n",
       "    }\n",
       "\n",
       "    .dataframe thead th {\n",
       "        text-align: right;\n",
       "    }\n",
       "</style>\n",
       "<table border=\"1\" class=\"dataframe\">\n",
       "  <thead>\n",
       "    <tr style=\"text-align: right;\">\n",
       "      <th></th>\n",
       "      <th>Open</th>\n",
       "      <th>High</th>\n",
       "      <th>Low</th>\n",
       "      <th>Close</th>\n",
       "      <th>Volume</th>\n",
       "      <th>Dividends</th>\n",
       "      <th>Stock Splits</th>\n",
       "    </tr>\n",
       "    <tr>\n",
       "      <th>Date</th>\n",
       "      <th></th>\n",
       "      <th></th>\n",
       "      <th></th>\n",
       "      <th></th>\n",
       "      <th></th>\n",
       "      <th></th>\n",
       "      <th></th>\n",
       "    </tr>\n",
       "  </thead>\n",
       "  <tbody>\n",
       "    <tr>\n",
       "      <th>2024-01-02 00:00:00-03:00</th>\n",
       "      <td>34.904215</td>\n",
       "      <td>35.323738</td>\n",
       "      <td>34.866927</td>\n",
       "      <td>35.221188</td>\n",
       "      <td>24043800</td>\n",
       "      <td>0.000000</td>\n",
       "      <td>0.0</td>\n",
       "    </tr>\n",
       "    <tr>\n",
       "      <th>2024-01-03 00:00:00-03:00</th>\n",
       "      <td>35.239832</td>\n",
       "      <td>36.470429</td>\n",
       "      <td>35.118636</td>\n",
       "      <td>36.321266</td>\n",
       "      <td>52300200</td>\n",
       "      <td>0.000000</td>\n",
       "      <td>0.0</td>\n",
       "    </tr>\n",
       "    <tr>\n",
       "      <th>2024-01-04 00:00:00-03:00</th>\n",
       "      <td>36.470429</td>\n",
       "      <td>36.684851</td>\n",
       "      <td>35.901743</td>\n",
       "      <td>36.013618</td>\n",
       "      <td>45344900</td>\n",
       "      <td>0.000000</td>\n",
       "      <td>0.0</td>\n",
       "    </tr>\n",
       "    <tr>\n",
       "      <th>2024-01-05 00:00:00-03:00</th>\n",
       "      <td>36.237361</td>\n",
       "      <td>36.489075</td>\n",
       "      <td>35.808518</td>\n",
       "      <td>36.097523</td>\n",
       "      <td>35783700</td>\n",
       "      <td>0.000000</td>\n",
       "      <td>0.0</td>\n",
       "    </tr>\n",
       "    <tr>\n",
       "      <th>2024-01-08 00:00:00-03:00</th>\n",
       "      <td>35.780555</td>\n",
       "      <td>35.827168</td>\n",
       "      <td>35.062706</td>\n",
       "      <td>35.827168</td>\n",
       "      <td>35158100</td>\n",
       "      <td>0.000000</td>\n",
       "      <td>0.0</td>\n",
       "    </tr>\n",
       "    <tr>\n",
       "      <th>...</th>\n",
       "      <td>...</td>\n",
       "      <td>...</td>\n",
       "      <td>...</td>\n",
       "      <td>...</td>\n",
       "      <td>...</td>\n",
       "      <td>...</td>\n",
       "      <td>...</td>\n",
       "    </tr>\n",
       "    <tr>\n",
       "      <th>2024-04-26 00:00:00-03:00</th>\n",
       "      <td>39.563057</td>\n",
       "      <td>40.032561</td>\n",
       "      <td>39.352258</td>\n",
       "      <td>39.908001</td>\n",
       "      <td>31899100</td>\n",
       "      <td>1.141431</td>\n",
       "      <td>0.0</td>\n",
       "    </tr>\n",
       "    <tr>\n",
       "      <th>2024-04-29 00:00:00-03:00</th>\n",
       "      <td>39.745109</td>\n",
       "      <td>40.387089</td>\n",
       "      <td>39.591802</td>\n",
       "      <td>40.387089</td>\n",
       "      <td>27886000</td>\n",
       "      <td>0.000000</td>\n",
       "      <td>0.0</td>\n",
       "    </tr>\n",
       "    <tr>\n",
       "      <th>2024-04-30 00:00:00-03:00</th>\n",
       "      <td>40.243364</td>\n",
       "      <td>40.444579</td>\n",
       "      <td>39.879256</td>\n",
       "      <td>40.262527</td>\n",
       "      <td>36635400</td>\n",
       "      <td>0.000000</td>\n",
       "      <td>0.0</td>\n",
       "    </tr>\n",
       "    <tr>\n",
       "      <th>2024-05-02 00:00:00-03:00</th>\n",
       "      <td>40.482908</td>\n",
       "      <td>40.607472</td>\n",
       "      <td>40.090057</td>\n",
       "      <td>40.415836</td>\n",
       "      <td>33244700</td>\n",
       "      <td>0.000000</td>\n",
       "      <td>0.0</td>\n",
       "    </tr>\n",
       "    <tr>\n",
       "      <th>2024-05-03 00:00:00-03:00</th>\n",
       "      <td>40.689999</td>\n",
       "      <td>40.689999</td>\n",
       "      <td>39.450001</td>\n",
       "      <td>39.889999</td>\n",
       "      <td>45114200</td>\n",
       "      <td>1.764165</td>\n",
       "      <td>0.0</td>\n",
       "    </tr>\n",
       "  </tbody>\n",
       "</table>\n",
       "<p>85 rows × 7 columns</p>\n",
       "</div>"
      ],
      "text/plain": [
       "                                Open       High        Low      Close  \\\n",
       "Date                                                                    \n",
       "2024-01-02 00:00:00-03:00  34.904215  35.323738  34.866927  35.221188   \n",
       "2024-01-03 00:00:00-03:00  35.239832  36.470429  35.118636  36.321266   \n",
       "2024-01-04 00:00:00-03:00  36.470429  36.684851  35.901743  36.013618   \n",
       "2024-01-05 00:00:00-03:00  36.237361  36.489075  35.808518  36.097523   \n",
       "2024-01-08 00:00:00-03:00  35.780555  35.827168  35.062706  35.827168   \n",
       "...                              ...        ...        ...        ...   \n",
       "2024-04-26 00:00:00-03:00  39.563057  40.032561  39.352258  39.908001   \n",
       "2024-04-29 00:00:00-03:00  39.745109  40.387089  39.591802  40.387089   \n",
       "2024-04-30 00:00:00-03:00  40.243364  40.444579  39.879256  40.262527   \n",
       "2024-05-02 00:00:00-03:00  40.482908  40.607472  40.090057  40.415836   \n",
       "2024-05-03 00:00:00-03:00  40.689999  40.689999  39.450001  39.889999   \n",
       "\n",
       "                             Volume  Dividends  Stock Splits  \n",
       "Date                                                          \n",
       "2024-01-02 00:00:00-03:00  24043800   0.000000           0.0  \n",
       "2024-01-03 00:00:00-03:00  52300200   0.000000           0.0  \n",
       "2024-01-04 00:00:00-03:00  45344900   0.000000           0.0  \n",
       "2024-01-05 00:00:00-03:00  35783700   0.000000           0.0  \n",
       "2024-01-08 00:00:00-03:00  35158100   0.000000           0.0  \n",
       "...                             ...        ...           ...  \n",
       "2024-04-26 00:00:00-03:00  31899100   1.141431           0.0  \n",
       "2024-04-29 00:00:00-03:00  27886000   0.000000           0.0  \n",
       "2024-04-30 00:00:00-03:00  36635400   0.000000           0.0  \n",
       "2024-05-02 00:00:00-03:00  33244700   0.000000           0.0  \n",
       "2024-05-03 00:00:00-03:00  45114200   1.764165           0.0  \n",
       "\n",
       "[85 rows x 7 columns]"
      ]
     },
     "execution_count": 3,
     "metadata": {},
     "output_type": "execute_result"
    }
   ],
   "source": [
    "codigo = input('Digite o codigo da açao: ')\n",
    "dt_inicial = input('digite a data inicial: ')\n",
    "dt_final = input('digite a data final: ')\n",
    "\n",
    "dados = yfinance.Ticker(codigo)\n",
    "tabela = dados.history(start = dt_inicial, end = dt_final)\n",
    "fechamento = tabela.Close\n",
    "\n",
    "maxima = round(fechamento.max(), 3)\n",
    "minima = round(fechamento.min(), 3)\n",
    "media = round(fechamento.mean(), 3)"
   ]
  },
  {
   "cell_type": "markdown",
   "metadata": {},
   "source": [
    "# Gerando um gráfico de linha (usa a biblioteca matplotlib)"
   ]
  },
  {
   "cell_type": "code",
   "execution_count": 5,
   "metadata": {},
   "outputs": [
    {
     "data": {
      "text/plain": [
       "<Axes: xlabel='Date'>"
      ]
     },
     "execution_count": 5,
     "metadata": {},
     "output_type": "execute_result"
    },
    {
     "data": {
      "image/png": "[encoded data removed]",
      "text/plain": [
       "<Figure size 640x480 with 1 Axes>"
      ]
     },
     "metadata": {},
     "output_type": "display_data"
    }
   ],
   "source": [
    "fechamento.plot()"
   ]
  },
  {
   "cell_type": "code",
   "execution_count": 6,
   "metadata": {},
   "outputs": [
    {
     "name": "stdout",
     "output_type": "stream",
     "text": [
      "40.416\n",
      "33.235\n",
      "36.825\n"
     ]
    }
   ],
   "source": [
    "\n",
    "\n"
   ]
  },
  {
   "cell_type": "markdown",
   "metadata": {},
   "source": []
  },
  {
   "cell_type": "code",
   "execution_count": 40,
   "metadata": {},
   "outputs": [],
   "source": [
    "destinatario = \"igorcosta16st@gmail.com\"\n",
    "assunto = \"analise de projeto\"\n",
    "mensagem = f\"\"\"\n",
    "Bom dia,\n",
    "\n",
    "Segue abaixo as análises da ação {codigo} do período solicitado: {dt_inicial} a {dt_final}:\n",
    "\n",
    "Cotação máxima: R${maxima}\n",
    "Cotação mínima: R${minima}\n",
    "Valor médio: R${media}\n",
    "\"\"\""
   ]
  },
  {
   "cell_type": "code",
   "execution_count": 39,
   "metadata": {},
   "outputs": [],
   "source": [
    "webbrowser.open(\"www.gmail.com\")\n",
    "sleep(10)\n",
    "\n",
    "pyautogui.PAUSE = 3\n",
    "\n",
    "\n",
    "pyautogui.click(x=77, y=203)\n",
    "pyautogui.click(x=1384, y=464)\n",
    "pyperclip.copy(destinatario)\n",
    "pyautogui.hotkey('ctrl', 'v')\n",
    "pyautogui.hotkey('tab')\n",
    "\n",
    "pyperclip.copy(assunto)\n",
    "pyautogui.hotkey('ctrl', 'v')\n",
    "pyautogui.hotkey('tab')\n",
    "\n",
    "pyperclip.copy(mensagem)\n",
    "pyautogui.hotkey('ctrl', 'v')\n",
    "pyautogui.hotkey('tab')\n",
    "\n",
    "#puperclip.copy para caracteres especiais como 'ç'"
   ]
  }
 ],
 "metadata": {
  "kernelspec": {
   "display_name": ".venv",
   "language": "python",
   "name": "python3"
  },
  "language_info": {
   "codemirror_mode": {
    "name": "ipython",
    "version": 3
   },
   "file_extension": ".py",
   "mimetype": "text/x-python",
   "name": "python",
   "nbconvert_exporter": "python",
   "pygments_lexer": "ipython3",
   "version": "3.12.3"
  }
 },
 "nbformat": 4,
 "nbformat_minor": 2
}
